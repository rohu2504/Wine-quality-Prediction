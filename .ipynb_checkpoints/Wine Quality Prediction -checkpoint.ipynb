{
 "cells": [
  {
   "cell_type": "markdown",
   "id": "f7a7dd04",
   "metadata": {},
   "source": [
    "# Importing Libraries"
   ]
  },
  {
   "cell_type": "code",
   "execution_count": 126,
   "id": "9be8dbc9",
   "metadata": {},
   "outputs": [],
   "source": [
    "import numpy as np\n",
    "import pandas as pd\n",
    "import matplotlib.pyplot as plt\n",
    "import seaborn as sns\n",
    "from sklearn.model_selection import train_test_split\n",
    "from sklearn.linear_model import LinearRegression\n",
    "from sklearn.metrics import mean_squared_error,r2_score,mean_absolute_error"
   ]
  },
  {
   "cell_type": "markdown",
   "id": "299b6fb2",
   "metadata": {},
   "source": [
    "# Importing Datset"
   ]
  },
  {
   "cell_type": "code",
   "execution_count": 127,
   "id": "bebe1a40",
   "metadata": {},
   "outputs": [
    {
     "data": {
      "text/html": [
       "<div>\n",
       "<style scoped>\n",
       "    .dataframe tbody tr th:only-of-type {\n",
       "        vertical-align: middle;\n",
       "    }\n",
       "\n",
       "    .dataframe tbody tr th {\n",
       "        vertical-align: top;\n",
       "    }\n",
       "\n",
       "    .dataframe thead th {\n",
       "        text-align: right;\n",
       "    }\n",
       "</style>\n",
       "<table border=\"1\" class=\"dataframe\">\n",
       "  <thead>\n",
       "    <tr style=\"text-align: right;\">\n",
       "      <th></th>\n",
       "      <th>fixed acidity</th>\n",
       "      <th>volatile acidity</th>\n",
       "      <th>citric acid</th>\n",
       "      <th>residual sugar</th>\n",
       "      <th>chlorides</th>\n",
       "      <th>free sulfur dioxide</th>\n",
       "      <th>total sulfur dioxide</th>\n",
       "      <th>density</th>\n",
       "      <th>pH</th>\n",
       "      <th>sulphates</th>\n",
       "      <th>alcohol</th>\n",
       "      <th>quality</th>\n",
       "    </tr>\n",
       "  </thead>\n",
       "  <tbody>\n",
       "    <tr>\n",
       "      <th>0</th>\n",
       "      <td>7.4</td>\n",
       "      <td>0.70</td>\n",
       "      <td>0.00</td>\n",
       "      <td>1.9</td>\n",
       "      <td>0.076</td>\n",
       "      <td>11.0</td>\n",
       "      <td>34.0</td>\n",
       "      <td>0.9978</td>\n",
       "      <td>3.51</td>\n",
       "      <td>0.56</td>\n",
       "      <td>9.4</td>\n",
       "      <td>5</td>\n",
       "    </tr>\n",
       "    <tr>\n",
       "      <th>1</th>\n",
       "      <td>7.8</td>\n",
       "      <td>0.88</td>\n",
       "      <td>0.00</td>\n",
       "      <td>2.6</td>\n",
       "      <td>0.098</td>\n",
       "      <td>25.0</td>\n",
       "      <td>67.0</td>\n",
       "      <td>0.9968</td>\n",
       "      <td>3.20</td>\n",
       "      <td>0.68</td>\n",
       "      <td>9.8</td>\n",
       "      <td>5</td>\n",
       "    </tr>\n",
       "    <tr>\n",
       "      <th>2</th>\n",
       "      <td>7.8</td>\n",
       "      <td>0.76</td>\n",
       "      <td>0.04</td>\n",
       "      <td>2.3</td>\n",
       "      <td>0.092</td>\n",
       "      <td>15.0</td>\n",
       "      <td>54.0</td>\n",
       "      <td>0.9970</td>\n",
       "      <td>3.26</td>\n",
       "      <td>0.65</td>\n",
       "      <td>9.8</td>\n",
       "      <td>5</td>\n",
       "    </tr>\n",
       "    <tr>\n",
       "      <th>3</th>\n",
       "      <td>11.2</td>\n",
       "      <td>0.28</td>\n",
       "      <td>0.56</td>\n",
       "      <td>1.9</td>\n",
       "      <td>0.075</td>\n",
       "      <td>17.0</td>\n",
       "      <td>60.0</td>\n",
       "      <td>0.9980</td>\n",
       "      <td>3.16</td>\n",
       "      <td>0.58</td>\n",
       "      <td>9.8</td>\n",
       "      <td>6</td>\n",
       "    </tr>\n",
       "    <tr>\n",
       "      <th>4</th>\n",
       "      <td>7.4</td>\n",
       "      <td>0.70</td>\n",
       "      <td>0.00</td>\n",
       "      <td>1.9</td>\n",
       "      <td>0.076</td>\n",
       "      <td>11.0</td>\n",
       "      <td>34.0</td>\n",
       "      <td>0.9978</td>\n",
       "      <td>3.51</td>\n",
       "      <td>0.56</td>\n",
       "      <td>9.4</td>\n",
       "      <td>5</td>\n",
       "    </tr>\n",
       "  </tbody>\n",
       "</table>\n",
       "</div>"
      ],
      "text/plain": [
       "   fixed acidity  volatile acidity  citric acid  residual sugar  chlorides  \\\n",
       "0            7.4              0.70         0.00             1.9      0.076   \n",
       "1            7.8              0.88         0.00             2.6      0.098   \n",
       "2            7.8              0.76         0.04             2.3      0.092   \n",
       "3           11.2              0.28         0.56             1.9      0.075   \n",
       "4            7.4              0.70         0.00             1.9      0.076   \n",
       "\n",
       "   free sulfur dioxide  total sulfur dioxide  density    pH  sulphates  \\\n",
       "0                 11.0                  34.0   0.9978  3.51       0.56   \n",
       "1                 25.0                  67.0   0.9968  3.20       0.68   \n",
       "2                 15.0                  54.0   0.9970  3.26       0.65   \n",
       "3                 17.0                  60.0   0.9980  3.16       0.58   \n",
       "4                 11.0                  34.0   0.9978  3.51       0.56   \n",
       "\n",
       "   alcohol  quality  \n",
       "0      9.4        5  \n",
       "1      9.8        5  \n",
       "2      9.8        5  \n",
       "3      9.8        6  \n",
       "4      9.4        5  "
      ]
     },
     "execution_count": 127,
     "metadata": {},
     "output_type": "execute_result"
    }
   ],
   "source": [
    "data=pd.read_csv(\"winequality-red.csv\")\n",
    "data.head()"
   ]
  },
  {
   "cell_type": "markdown",
   "id": "d989e8aa",
   "metadata": {},
   "source": [
    "# Finding whether missing values exist or not"
   ]
  },
  {
   "cell_type": "code",
   "execution_count": 128,
   "id": "2b2fe962",
   "metadata": {},
   "outputs": [
    {
     "data": {
      "text/plain": [
       "fixed acidity           0\n",
       "volatile acidity        0\n",
       "citric acid             0\n",
       "residual sugar          0\n",
       "chlorides               0\n",
       "free sulfur dioxide     0\n",
       "total sulfur dioxide    0\n",
       "density                 0\n",
       "pH                      0\n",
       "sulphates               0\n",
       "alcohol                 0\n",
       "quality                 0\n",
       "dtype: int64"
      ]
     },
     "execution_count": 128,
     "metadata": {},
     "output_type": "execute_result"
    }
   ],
   "source": [
    "data.isnull().sum()"
   ]
  },
  {
   "cell_type": "markdown",
   "id": "707aa6c2",
   "metadata": {},
   "source": [
    "# statistical measures of dataset"
   ]
  },
  {
   "cell_type": "code",
   "execution_count": 129,
   "id": "ac88043e",
   "metadata": {},
   "outputs": [
    {
     "data": {
      "text/html": [
       "<div>\n",
       "<style scoped>\n",
       "    .dataframe tbody tr th:only-of-type {\n",
       "        vertical-align: middle;\n",
       "    }\n",
       "\n",
       "    .dataframe tbody tr th {\n",
       "        vertical-align: top;\n",
       "    }\n",
       "\n",
       "    .dataframe thead th {\n",
       "        text-align: right;\n",
       "    }\n",
       "</style>\n",
       "<table border=\"1\" class=\"dataframe\">\n",
       "  <thead>\n",
       "    <tr style=\"text-align: right;\">\n",
       "      <th></th>\n",
       "      <th>fixed acidity</th>\n",
       "      <th>volatile acidity</th>\n",
       "      <th>citric acid</th>\n",
       "      <th>residual sugar</th>\n",
       "      <th>chlorides</th>\n",
       "      <th>free sulfur dioxide</th>\n",
       "      <th>total sulfur dioxide</th>\n",
       "      <th>density</th>\n",
       "      <th>pH</th>\n",
       "      <th>sulphates</th>\n",
       "      <th>alcohol</th>\n",
       "      <th>quality</th>\n",
       "    </tr>\n",
       "  </thead>\n",
       "  <tbody>\n",
       "    <tr>\n",
       "      <th>count</th>\n",
       "      <td>1599.000000</td>\n",
       "      <td>1599.000000</td>\n",
       "      <td>1599.000000</td>\n",
       "      <td>1599.000000</td>\n",
       "      <td>1599.000000</td>\n",
       "      <td>1599.000000</td>\n",
       "      <td>1599.000000</td>\n",
       "      <td>1599.000000</td>\n",
       "      <td>1599.000000</td>\n",
       "      <td>1599.000000</td>\n",
       "      <td>1599.000000</td>\n",
       "      <td>1599.000000</td>\n",
       "    </tr>\n",
       "    <tr>\n",
       "      <th>mean</th>\n",
       "      <td>8.319637</td>\n",
       "      <td>0.527821</td>\n",
       "      <td>0.270976</td>\n",
       "      <td>2.538806</td>\n",
       "      <td>0.087467</td>\n",
       "      <td>15.874922</td>\n",
       "      <td>46.467792</td>\n",
       "      <td>0.996747</td>\n",
       "      <td>3.311113</td>\n",
       "      <td>0.658149</td>\n",
       "      <td>10.422983</td>\n",
       "      <td>5.636023</td>\n",
       "    </tr>\n",
       "    <tr>\n",
       "      <th>std</th>\n",
       "      <td>1.741096</td>\n",
       "      <td>0.179060</td>\n",
       "      <td>0.194801</td>\n",
       "      <td>1.409928</td>\n",
       "      <td>0.047065</td>\n",
       "      <td>10.460157</td>\n",
       "      <td>32.895324</td>\n",
       "      <td>0.001887</td>\n",
       "      <td>0.154386</td>\n",
       "      <td>0.169507</td>\n",
       "      <td>1.065668</td>\n",
       "      <td>0.807569</td>\n",
       "    </tr>\n",
       "    <tr>\n",
       "      <th>min</th>\n",
       "      <td>4.600000</td>\n",
       "      <td>0.120000</td>\n",
       "      <td>0.000000</td>\n",
       "      <td>0.900000</td>\n",
       "      <td>0.012000</td>\n",
       "      <td>1.000000</td>\n",
       "      <td>6.000000</td>\n",
       "      <td>0.990070</td>\n",
       "      <td>2.740000</td>\n",
       "      <td>0.330000</td>\n",
       "      <td>8.400000</td>\n",
       "      <td>3.000000</td>\n",
       "    </tr>\n",
       "    <tr>\n",
       "      <th>25%</th>\n",
       "      <td>7.100000</td>\n",
       "      <td>0.390000</td>\n",
       "      <td>0.090000</td>\n",
       "      <td>1.900000</td>\n",
       "      <td>0.070000</td>\n",
       "      <td>7.000000</td>\n",
       "      <td>22.000000</td>\n",
       "      <td>0.995600</td>\n",
       "      <td>3.210000</td>\n",
       "      <td>0.550000</td>\n",
       "      <td>9.500000</td>\n",
       "      <td>5.000000</td>\n",
       "    </tr>\n",
       "    <tr>\n",
       "      <th>50%</th>\n",
       "      <td>7.900000</td>\n",
       "      <td>0.520000</td>\n",
       "      <td>0.260000</td>\n",
       "      <td>2.200000</td>\n",
       "      <td>0.079000</td>\n",
       "      <td>14.000000</td>\n",
       "      <td>38.000000</td>\n",
       "      <td>0.996750</td>\n",
       "      <td>3.310000</td>\n",
       "      <td>0.620000</td>\n",
       "      <td>10.200000</td>\n",
       "      <td>6.000000</td>\n",
       "    </tr>\n",
       "    <tr>\n",
       "      <th>75%</th>\n",
       "      <td>9.200000</td>\n",
       "      <td>0.640000</td>\n",
       "      <td>0.420000</td>\n",
       "      <td>2.600000</td>\n",
       "      <td>0.090000</td>\n",
       "      <td>21.000000</td>\n",
       "      <td>62.000000</td>\n",
       "      <td>0.997835</td>\n",
       "      <td>3.400000</td>\n",
       "      <td>0.730000</td>\n",
       "      <td>11.100000</td>\n",
       "      <td>6.000000</td>\n",
       "    </tr>\n",
       "    <tr>\n",
       "      <th>max</th>\n",
       "      <td>15.900000</td>\n",
       "      <td>1.580000</td>\n",
       "      <td>1.000000</td>\n",
       "      <td>15.500000</td>\n",
       "      <td>0.611000</td>\n",
       "      <td>72.000000</td>\n",
       "      <td>289.000000</td>\n",
       "      <td>1.003690</td>\n",
       "      <td>4.010000</td>\n",
       "      <td>2.000000</td>\n",
       "      <td>14.900000</td>\n",
       "      <td>8.000000</td>\n",
       "    </tr>\n",
       "  </tbody>\n",
       "</table>\n",
       "</div>"
      ],
      "text/plain": [
       "       fixed acidity  volatile acidity  citric acid  residual sugar  \\\n",
       "count    1599.000000       1599.000000  1599.000000     1599.000000   \n",
       "mean        8.319637          0.527821     0.270976        2.538806   \n",
       "std         1.741096          0.179060     0.194801        1.409928   \n",
       "min         4.600000          0.120000     0.000000        0.900000   \n",
       "25%         7.100000          0.390000     0.090000        1.900000   \n",
       "50%         7.900000          0.520000     0.260000        2.200000   \n",
       "75%         9.200000          0.640000     0.420000        2.600000   \n",
       "max        15.900000          1.580000     1.000000       15.500000   \n",
       "\n",
       "         chlorides  free sulfur dioxide  total sulfur dioxide      density  \\\n",
       "count  1599.000000          1599.000000           1599.000000  1599.000000   \n",
       "mean      0.087467            15.874922             46.467792     0.996747   \n",
       "std       0.047065            10.460157             32.895324     0.001887   \n",
       "min       0.012000             1.000000              6.000000     0.990070   \n",
       "25%       0.070000             7.000000             22.000000     0.995600   \n",
       "50%       0.079000            14.000000             38.000000     0.996750   \n",
       "75%       0.090000            21.000000             62.000000     0.997835   \n",
       "max       0.611000            72.000000            289.000000     1.003690   \n",
       "\n",
       "                pH    sulphates      alcohol      quality  \n",
       "count  1599.000000  1599.000000  1599.000000  1599.000000  \n",
       "mean      3.311113     0.658149    10.422983     5.636023  \n",
       "std       0.154386     0.169507     1.065668     0.807569  \n",
       "min       2.740000     0.330000     8.400000     3.000000  \n",
       "25%       3.210000     0.550000     9.500000     5.000000  \n",
       "50%       3.310000     0.620000    10.200000     6.000000  \n",
       "75%       3.400000     0.730000    11.100000     6.000000  \n",
       "max       4.010000     2.000000    14.900000     8.000000  "
      ]
     },
     "execution_count": 129,
     "metadata": {},
     "output_type": "execute_result"
    }
   ],
   "source": [
    "data.describe()"
   ]
  },
  {
   "cell_type": "markdown",
   "id": "d3e47907",
   "metadata": {},
   "source": [
    "# Number of values for each quality"
   ]
  },
  {
   "cell_type": "code",
   "execution_count": 130,
   "id": "8f01b637",
   "metadata": {},
   "outputs": [
    {
     "data": {
      "text/plain": [
       "<seaborn.axisgrid.FacetGrid at 0x1b49510de50>"
      ]
     },
     "execution_count": 130,
     "metadata": {},
     "output_type": "execute_result"
    },
    {
     "data": {
      "image/png": "[encoded data removed]",
      "text/plain": [
       "<Figure size 360x360 with 1 Axes>"
      ]
     },
     "metadata": {
      "needs_background": "light"
     },
     "output_type": "display_data"
    }
   ],
   "source": [
    "sns.catplot(x=\"quality\",data=data,kind=\"count\")"
   ]
  },
  {
   "cell_type": "markdown",
   "id": "2c97f001",
   "metadata": {},
   "source": [
    "# Histogram for features"
   ]
  },
  {
   "cell_type": "code",
   "execution_count": 131,
   "id": "8ae24359",
   "metadata": {},
   "outputs": [
    {
     "data": {
      "image/png": "[encoded data removed]",
      "text/plain": [
       "<Figure size 720x720 with 12 Axes>"
      ]
     },
     "metadata": {
      "needs_background": "light"
     },
     "output_type": "display_data"
    }
   ],
   "source": [
    "data.hist(bins=25,figsize=[10,10])\n",
    "plt.show()"
   ]
  },
  {
   "cell_type": "markdown",
   "id": "8008223b",
   "metadata": {},
   "source": [
    "# Constructing the heatmap to determine the correlation between the features"
   ]
  },
  {
   "cell_type": "code",
   "execution_count": 132,
   "id": "df039f8d",
   "metadata": {},
   "outputs": [
    {
     "data": {
      "text/plain": [
       "<AxesSubplot:>"
      ]
     },
     "execution_count": 132,
     "metadata": {},
     "output_type": "execute_result"
    },
    {
     "data": {
      "image/png": "[encoded data removed]",
      "text/plain": [
       "<Figure size 720x720 with 2 Axes>"
      ]
     },
     "metadata": {
      "needs_background": "light"
     },
     "output_type": "display_data"
    }
   ],
   "source": [
    "correlation=data.corr()\n",
    "plt.figure(figsize=(10,10))\n",
    "sns.heatmap(correlation,cbar=True,square=True,fmt='.1f',annot=True,annot_kws={'size':8},cmap='Blues')"
   ]
  },
  {
   "cell_type": "markdown",
   "id": "1a915f5f",
   "metadata": {},
   "source": [
    "# Dependent and Independent variables"
   ]
  },
  {
   "cell_type": "code",
   "execution_count": 133,
   "id": "d238ab51",
   "metadata": {},
   "outputs": [
    {
     "name": "stdout",
     "output_type": "stream",
     "text": [
      "[[ 7.4    0.7    0.    ...  3.51   0.56   9.4  ]\n",
      " [ 7.8    0.88   0.    ...  3.2    0.68   9.8  ]\n",
      " [ 7.8    0.76   0.04  ...  3.26   0.65   9.8  ]\n",
      " ...\n",
      " [ 6.3    0.51   0.13  ...  3.42   0.75  11.   ]\n",
      " [ 5.9    0.645  0.12  ...  3.57   0.71  10.2  ]\n",
      " [ 6.     0.31   0.47  ...  3.39   0.66  11.   ]]\n",
      "[5 5 5 ... 6 5 6]\n"
     ]
    }
   ],
   "source": [
    "x=data.iloc[:,:-1].values\n",
    "y=data.iloc[:,-1].values\n",
    "print(x)\n",
    "print(y)\n"
   ]
  },
  {
   "cell_type": "markdown",
   "id": "763e33c6",
   "metadata": {},
   "source": [
    "# Train_Test_Split"
   ]
  },
  {
   "cell_type": "code",
   "execution_count": 134,
   "id": "a2221861",
   "metadata": {},
   "outputs": [],
   "source": [
    "x_train,x_test,y_train,y_test=train_test_split(x,y,test_size=0.2,random_state=0)"
   ]
  },
  {
   "cell_type": "markdown",
   "id": "5f2ac3eb",
   "metadata": {},
   "source": [
    "# Using Linear Regression Model"
   ]
  },
  {
   "cell_type": "code",
   "execution_count": 135,
   "id": "85d7547f",
   "metadata": {},
   "outputs": [],
   "source": [
    "ob=LinearRegression()\n",
    "k=ob.fit(x_train,y_train)"
   ]
  },
  {
   "cell_type": "markdown",
   "id": "576dc6af",
   "metadata": {},
   "source": [
    "# Providing test data"
   ]
  },
  {
   "cell_type": "code",
   "execution_count": 136,
   "id": "c8ba3f38",
   "metadata": {},
   "outputs": [
    {
     "name": "stdout",
     "output_type": "stream",
     "text": [
      "[5.7829301  5.03619267 6.59698929 5.33912637 5.93952898 5.0072068\n",
      " 5.39616171 6.05211188 4.86760343 4.95067572 5.28580441 5.41265269\n",
      " 5.7057424  5.12921737 5.52885206 6.38052412 6.81012527 5.73803346\n",
      " 5.97618825 5.08613415 6.34479863 5.16400983 5.64203971 6.1462903\n",
      " 5.4817802  5.03391406 5.18721293 6.48783659 5.33301372 6.30458308\n",
      " 6.03452293 5.82849303 5.58503524 5.28512701 5.75656128 6.15273792\n",
      " 5.14134479 5.48228021 6.38983359 5.7901819  5.42936928 6.04810414\n",
      " 6.70159678 6.60160183 5.97253803 4.78890763 5.49565005 6.01881894\n",
      " 5.48895041 6.10824243 5.3126164  5.28492351 5.76043226 6.36081498\n",
      " 5.7195388  5.26971928 5.08498332 5.31050693 6.50895816 5.44323413\n",
      " 5.16377401 5.76427324 6.0703837  6.28933679 5.07315141 6.11874641\n",
      " 5.35681067 6.01343647 6.12184268 5.98547673 5.35327968 5.4367731\n",
      " 5.06017324 5.58939889 5.62593935 6.25651326 5.37875073 5.31024191\n",
      " 5.72008022 6.30275434 5.71093253 5.27783285 5.89582077 6.0876033\n",
      " 5.50616533 5.37465715 6.2437351  5.07332478 5.32665801 4.97398339\n",
      " 5.15975198 5.3222433  5.80802642 5.41018532 6.20608506 5.35327968\n",
      " 6.29102872 5.3563169  5.44615319 5.91167448 6.8638794  5.95652806\n",
      " 5.78388971 6.29371091 5.59599754 4.95365311 5.59599754 5.42146389\n",
      " 6.01303846 5.27638601 5.88672069 5.12760247 6.2448062  5.02250118\n",
      " 5.61019652 5.78465194 5.67109764 6.40669755 5.80411913 5.64203971\n",
      " 5.1425518  5.90518858 5.40535036 5.08051616 6.21318148 6.31555382\n",
      " 5.31479331 5.43479319 6.00371415 6.44580043 5.42123137 5.21176713\n",
      " 6.0115925  5.82456823 6.30161065 5.2778688  5.89171326 5.27523169\n",
      " 6.06991874 5.33404791 6.01515226 5.09525238 5.49565005 5.26881614\n",
      " 5.6457977  5.7407852  6.2448062  6.40720033 6.25146759 5.27789573\n",
      " 5.91333663 5.90495368 5.42146389 5.51302494 5.54847605 5.40070493\n",
      " 5.08033848 5.3510922  6.22327966 6.09839802 5.93181807 5.58654048\n",
      " 6.28448742 5.12182863 5.92703798 5.02880639 6.02096889 6.48614221\n",
      " 5.47510197 5.95369102 5.96856352 5.52714605 4.99032758 6.61783587\n",
      " 5.83168392 6.27155921 6.1696774  6.82398109 6.09221279 4.79911152\n",
      " 5.08007664 6.97183788 5.47185136 6.15652237 6.76814871 5.01090071\n",
      " 5.64760285 5.78388971 4.99837302 6.13355739 6.07096526 5.90429107\n",
      " 5.15557434 5.46274017 5.18721745 5.16438178 5.28580441 5.14635187\n",
      " 5.23327742 5.13457255 5.25484703 6.16206701 5.16430349 5.29976489\n",
      " 5.41360202 4.95989181 5.08718841 6.34194262 6.02109942 5.40945753\n",
      " 5.93102776 6.16931767 5.35093909 6.37326597 5.00471968 5.44868099\n",
      " 5.90152973 6.03130172 5.56044971 5.00135995 5.03938153 5.93018212\n",
      " 6.39367602 5.74511903 5.42761053 6.01275242 6.38386771 5.76122648\n",
      " 4.82219859 5.46878592 5.04430938 5.90506617 5.06816998 5.87105926\n",
      " 6.25707687 5.63526985 6.1124061  6.58032257 6.51304421 6.12637713\n",
      " 5.34985341 4.91834558 5.02633902 5.10209868 5.93751622 4.82726361\n",
      " 5.58643272 5.25007252 4.87286412 6.34221756 4.87320824 5.26969753\n",
      " 4.89400677 5.33869588 5.52716577 5.53897238 5.12721593 5.06001131\n",
      " 5.13911179 5.59628108 5.34085607 6.96723853 5.31357668 5.6468939\n",
      " 5.24038769 4.69060078 5.33061878 4.97930332 5.60209709 6.49226284\n",
      " 5.72883634 5.7319909  5.63538976 6.086924   5.92577835 5.85174439\n",
      " 6.37461452 5.18497794 6.56584684 6.14312626 5.37501664 6.91651759\n",
      " 5.7319909  6.34086207 5.78421572 5.18439125 5.54950551 5.33360868\n",
      " 6.269919   5.88265344 5.68163948 5.42086654 6.12538899 5.31406745\n",
      " 5.19528191 5.70178575 5.5675469  5.14670499 5.15556398 5.24007613\n",
      " 5.69892321 5.06382643 5.35893169 5.69605721 6.10381152 5.84992365\n",
      " 5.33722415 5.05158628 5.59207818 5.30872494 5.91032222 5.92390941\n",
      " 5.3494868  5.3563169  5.10159886 6.55975683 6.01757571 6.25129053\n",
      " 5.16392559 6.36720517]\n"
     ]
    }
   ],
   "source": [
    "te=ob.predict(x_test)\n",
    "print(te)"
   ]
  },
  {
   "cell_type": "markdown",
   "id": "b4263df7",
   "metadata": {},
   "source": [
    "# Calculation Evaluation Metrics"
   ]
  },
  {
   "cell_type": "code",
   "execution_count": 139,
   "id": "f8a38e08",
   "metadata": {},
   "outputs": [
    {
     "name": "stdout",
     "output_type": "stream",
     "text": [
      "The R_squared score: 0.3283887639580245\n",
      "The Root mean squared error: 0.6200574149384257\n",
      "The Mean absolute error: 0.46963309286610944\n"
     ]
    }
   ],
   "source": [
    "mse=mean_squared_error(y_test,te)\n",
    "rmse=np.sqrt(mse)\n",
    "r2=r2_score(y_test,te)\n",
    "mae=mean_absolute_error(y_test,te)\n",
    "print(\"The R_squared score:\",r2)\n",
    "print(\"The Root mean squared error:\",rmse)\n",
    "print(\"The Mean absolute error:\",mae)"
   ]
  },
  {
   "cell_type": "markdown",
   "id": "4e6f5d42",
   "metadata": {},
   "source": [
    "# Visualization the distribution of differences between actual and predicted values"
   ]
  },
  {
   "cell_type": "code",
   "execution_count": 140,
   "id": "3cd51098",
   "metadata": {},
   "outputs": [
    {
     "name": "stderr",
     "output_type": "stream",
     "text": [
      "C:\\Users\\91709\\anaconda3\\lib\\site-packages\\seaborn\\distributions.py:2619: FutureWarning: `distplot` is a deprecated function and will be removed in a future version. Please adapt your code to use either `displot` (a figure-level function with similar flexibility) or `histplot` (an axes-level function for histograms).\n",
      "  warnings.warn(msg, FutureWarning)\n"
     ]
    },
    {
     "data": {
      "text/plain": [
       "<AxesSubplot:ylabel='Density'>"
      ]
     },
     "execution_count": 140,
     "metadata": {},
     "output_type": "execute_result"
    },
    {
     "data": {
      "image/png": "[encoded data removed]",
      "text/plain": [
       "<Figure size 432x288 with 1 Axes>"
      ]
     },
     "metadata": {
      "needs_background": "light"
     },
     "output_type": "display_data"
    }
   ],
   "source": [
    "sns.distplot([y_test-te],bins=50)"
   ]
  }
 ],
 "metadata": {
  "kernelspec": {
   "display_name": "Python 3 (ipykernel)",
   "language": "python",
   "name": "python3"
  },
  "language_info": {
   "codemirror_mode": {
    "name": "ipython",
    "version": 3
   },
   "file_extension": ".py",
   "mimetype": "text/x-python",
   "name": "python",
   "nbconvert_exporter": "python",
   "pygments_lexer": "ipython3",
   "version": "3.9.7"
  }
 },
 "nbformat": 4,
 "nbformat_minor": 5
}
